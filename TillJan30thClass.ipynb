{
 "cells": [
  {
   "cell_type": "code",
   "execution_count": 4,
   "id": "3dab2890-34cd-4030-b23e-51b8ff54f1e2",
   "metadata": {},
   "outputs": [
    {
     "name": "stdout",
     "output_type": "stream",
     "text": [
      "ny name is vignesh\n"
     ]
    }
   ],
   "source": [
    "name='vignesh Ramkumar'\n",
    "age=40\n",
    "degree = 'BE\"\n",
    "print (\"ny name is\",name)"
   ]
  },
  {
   "cell_type": "code",
   "execution_count": 5,
   "id": "1c160157-ab4e-4ac4-8066-e755e4dcbaf1",
   "metadata": {},
   "outputs": [
    {
     "name": "stdout",
     "output_type": "stream",
     "text": [
      "My age is {age}\n"
     ]
    }
   ],
   "source": [
    "print (\"My age is {age}\")"
   ]
  },
  {
   "cell_type": "code",
   "execution_count": 10,
   "id": "97c0b1a2-93d2-4fe3-b031-e33f0273cb31",
   "metadata": {},
   "outputs": [
    {
     "name": "stdout",
     "output_type": "stream",
     "text": [
      "My age is 40\n"
     ]
    }
   ],
   "source": [
    "## F string which is used for formatting purposes\n",
    "print (f\"My age is {age}\")"
   ]
  },
  {
   "cell_type": "code",
   "execution_count": 13,
   "id": "45144709-ec56-48cb-86d0-beb87d41018d",
   "metadata": {},
   "outputs": [
    {
     "name": "stdout",
     "output_type": "stream",
     "text": [
      "my Name is vignesh and my age is 40\n"
     ]
    }
   ],
   "source": [
    "print (\"my Name is {} and my age is {}\".format(name,age)) # the datatype could be interchanged and it will give wrong answer"
   ]
  },
  {
   "cell_type": "code",
   "execution_count": 14,
   "id": "0e5c28d0-76c8-4584-83b1-ac145e77e83b",
   "metadata": {},
   "outputs": [
    {
     "name": "stdout",
     "output_type": "stream",
     "text": [
      "my Name is 40 and my age is vignesh\n"
     ]
    }
   ],
   "source": [
    "print (\"my Name is {} and my age is {}\".format(age,name))"
   ]
  },
  {
   "cell_type": "code",
   "execution_count": 17,
   "id": "8a9aeb34-13f7-4bd3-a128-650de1116beb",
   "metadata": {},
   "outputs": [
    {
     "name": "stdout",
     "output_type": "stream",
     "text": [
      "My Name is vignesh and my age is 40\n"
     ]
    }
   ],
   "source": [
    "print(\"My Name is {firstname} and my age is {firstage}\".format(firstname=name,firstage=age))"
   ]
  },
  {
   "cell_type": "code",
   "execution_count": 20,
   "id": "e8b1fdf5-f15a-4522-a85a-55b2698fea70",
   "metadata": {},
   "outputs": [
    {
     "name": "stdout",
     "output_type": "stream",
     "text": [
      "My age is 40 and I have completed my degree of BE with the name of vignesh Ramkumar\n"
     ]
    }
   ],
   "source": [
    "name='vignesh Ramkumar'\n",
    "age=40\n",
    "degree = 'BE'\n",
    "print(\"My age is {} and I have completed my degree of {} with the name of {}\".format(age,degree,name))"
   ]
  },
  {
   "cell_type": "code",
   "execution_count": 3,
   "id": "8b1d6f8a-2ed4-4a7d-9cec-3ca44d87db3c",
   "metadata": {},
   "outputs": [
    {
     "name": "stdin",
     "output_type": "stream",
     "text": [
      "Enter your age 12\n"
     ]
    },
    {
     "name": "stdout",
     "output_type": "stream",
     "text": [
      "12\n"
     ]
    }
   ],
   "source": [
    "age = int(input(\"Enter your age\"))\n",
    "print (age)"
   ]
  },
  {
   "cell_type": "code",
   "execution_count": 9,
   "id": "04ac5cc1-f9b8-49b9-af7e-77a701dd0dc0",
   "metadata": {},
   "outputs": [
    {
     "name": "stdin",
     "output_type": "stream",
     "text": [
      "Please enter the product price 1000\n"
     ]
    },
    {
     "name": "stdout",
     "output_type": "stream",
     "text": [
      "product price after discount is 700.0\n"
     ]
    }
   ],
   "source": [
    "# Assignment 1\n",
    "Pprice = int(input(\"Please enter the product price\"))\n",
    "if Pprice<=1000:\n",
    "    Disamt = Pprice - (Pprice *(30/100))\n",
    "else:\n",
    "    Disamt = Pprice - (Pprice*(20/100))\n",
    "print (\"product price after discount is {}\".format(Disamt))"
   ]
  },
  {
   "cell_type": "code",
   "execution_count": 11,
   "id": "4d5b6deb-0462-4b4e-bf5a-edddabfed525",
   "metadata": {},
   "outputs": [
    {
     "name": "stdin",
     "output_type": "stream",
     "text": [
      "Please enter the product price 0\n"
     ]
    },
    {
     "name": "stdout",
     "output_type": "stream",
     "text": [
      "product price after discount is 0.0\n"
     ]
    }
   ],
   "source": [
    "# Assignment 2\n",
    "## Product price greater than 3000 then 20% off\n",
    "## Product price greater than or equal to 2000  and less than or equal to 3000 then 30% off\n",
    "## Product price greater than or equal to 100  and less than to 2000 then 30% off\n",
    "## \n",
    "Pprice = int(input(\"Please enter the product price\"))\n",
    "if Pprice>3000:\n",
    "    Disamt = Pprice - (Pprice *(20/100))\n",
    "elif Pprice >=2000 and Pprice<=3000:\n",
    "    Disamt = Pprice - (Pprice *(30/100))\n",
    "else:\n",
    "    Disamt = Pprice - (Pprice*(40/100))\n",
    "print (\"product price after discount is {}\".format(Disamt))"
   ]
  },
  {
   "cell_type": "code",
   "execution_count": 4,
   "id": "8b0d854a-4019-4aae-bf34-4c57548ff268",
   "metadata": {},
   "outputs": [
    {
     "name": "stdin",
     "output_type": "stream",
     "text": [
      "Enter the value 1000\n"
     ]
    },
    {
     "name": "stdout",
     "output_type": "stream",
     "text": [
      "value is greater than 999\n"
     ]
    }
   ],
   "source": [
    "val = int(input(\"Enter the value\"))\n",
    "if val<=999: print(\"value is less than or equal to 999\")\n",
    "else: print(\"value is greater than 999\")\n",
    "          "
   ]
  },
  {
   "cell_type": "code",
   "execution_count": null,
   "id": "ba6529e9-7f30-45c3-87a2-5636c71b0661",
   "metadata": {},
   "outputs": [],
   "source": []
  }
 ],
 "metadata": {
  "kernelspec": {
   "display_name": "Python 3 (ipykernel)",
   "language": "python",
   "name": "python3"
  },
  "language_info": {
   "codemirror_mode": {
    "name": "ipython",
    "version": 3
   },
   "file_extension": ".py",
   "mimetype": "text/x-python",
   "name": "python",
   "nbconvert_exporter": "python",
   "pygments_lexer": "ipython3",
   "version": "3.10.8"
  }
 },
 "nbformat": 4,
 "nbformat_minor": 5
}
