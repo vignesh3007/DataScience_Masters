{
 "cells": [
  {
   "cell_type": "markdown",
   "id": "4d756a60-cc39-4a92-9d98-e887a825238f",
   "metadata": {},
   "source": [
    "# Statistics Assignment 2"
   ]
  },
  {
   "cell_type": "raw",
   "id": "7d1b3b90-8eea-479c-a448-2373eac96a00",
   "metadata": {},
   "source": [
    "Q1. What are the three measures of central tendency?\n",
    "Mean, Median and Mode"
   ]
  },
  {
   "cell_type": "raw",
   "id": "5d47dd85-a5e6-49b9-b414-59253dc062f4",
   "metadata": {},
   "source": [
    "Q2. What is the difference between Mean, Median and mode ? How are they used to measure the central tendency of a dataset?\n",
    "Mean is the average of the dataset and found by adding all the numbers in data set and then dividing by the number of values in the set\n",
    "Median is the middle value when the data set is sorted in the order of least to high\n",
    "Mode is the number that occurs maximum times in the data set"
   ]
  },
  {
   "cell_type": "raw",
   "id": "24e728df-9b83-45ad-9810-7c9519ce7311",
   "metadata": {},
   "source": [
    "Q3. Measure the three measures of central tendency fro the given height data:\n",
    "   [178,177,176,177,178.2,178,175,179,180,175,178.9,176.2,177,172.5,178,176.5]\n",
    "    \n",
    "Mean = (178+177+176+177+178.2+178+175+179+180+175+178.9+176.2+177+172.5+178+176.5)/16 = 177.01875\n",
    "Median = [172.5,175,175,176,176.2,176.5,177,177,177,178,178,178,178.2,178.9,179,178] = (177+177)/2 = 177\n",
    "Mode = (177+178)/2 = 177.5"
   ]
  },
  {
   "cell_type": "raw",
   "id": "b3d83c94-8b57-4171-8b08-47337a111cb3",
   "metadata": {},
   "source": [
    "Q4. Find the standard deviation of the given data:\n",
    "    [178,177,176,177,178.2,178,175,179,180,175,178.9,176.2,177,172.5,178,176.5]\n",
    "    Variance = 51.18438/15 = 3.412292\n",
    "    Standard Deviation = 1.847239"
   ]
  },
  {
   "cell_type": "raw",
   "id": "b86b4e54-7961-4dac-b0ba-0687a5192bf8",
   "metadata": {},
   "source": [
    "Q5: How are meassures of dispersion such as range, variance and standard deviation used to describe the spread of a dataset? Provide a example\n",
    "Range: It is a the measure of difference between largest and smallest value of  the dataset\n",
    "e.g X= [1,2,3,4,5,6] \n",
    "Range = 6-1 = 5\n",
    "\n",
    "Variance : It i calculated by obtaining the sum of squared distances of each term in the data set fro the mean and then dividing by the total number of the data set\n",
    "e.g. X = [1,2,3,4,5,6]\n",
    "Variance = 17.5/5 = 3.5\n",
    "\n",
    "standard Deviation: It is the square root of the variance\n",
    "e.g. X = [1,2,3,4,5,6]\n",
    "Std. Dev = 1.870829"
   ]
  },
  {
   "cell_type": "raw",
   "id": "d40d864d-0a88-48f0-9dcc-9e5d9f975dd5",
   "metadata": {},
   "source": [
    "Q6. What is Venn Diagram?\n",
    "Diagram representing logical (Union, Intersection, difference) sets as circles within a rectangle"
   ]
  },
  {
   "cell_type": "raw",
   "id": "dd8012bf-3e01-4549-98ba-110b4a2f990b",
   "metadata": {},
   "source": [
    "Q7. For the two given sets a = (2,3,4,5,6,7) & B= (0,2,6,8,10) Find\n",
    "1. Intersection : (2,6)\n",
    "2. Union: (0,2,3,4,5,6,7,8,10)"
   ]
  },
  {
   "cell_type": "raw",
   "id": "3353be84-23cb-4ac3-92b2-81aa92962b7b",
   "metadata": {},
   "source": [
    "Q8. What do you understand by the skewnes in a data?\n",
    "Skewness is a measurement of the distortion of asymmetry in a data set."
   ]
  },
  {
   "cell_type": "raw",
   "id": "8c6bde0a-5150-45b2-8fc4-e64fe683a4cc",
   "metadata": {},
   "source": [
    "Q9. If a data is right skewed then what will be the position of median with respect to mean?\n",
    "Mean will be greater than median in right skewed or postivie skewed data set"
   ]
  },
  {
   "cell_type": "raw",
   "id": "4a0ce397-46c0-4734-bd45-4791757803ec",
   "metadata": {},
   "source": [
    "Q10. Explain the differernce between covariance and correlation. How are these measures used in statistical analysis?\n",
    "Correlation defines how the change  in one variable will affect the other\n",
    "Co-variance defines how the two variables differ from each other\n",
    "Co-variance and correlation is used during the feature selection in data anlysis. If the co-variance is near to zero, we can avoid the feature from selecting it."
   ]
  },
  {
   "cell_type": "raw",
   "id": "b9c782d3-2923-43df-b049-d296fd25eb0d",
   "metadata": {},
   "source": [
    "Q11. What is the formula for calculating the sample mean? Provide an example calculation for the dataset?\n",
    "FOrmula for calculating the sample mean is sum of the numbers in data set/total numbers\n",
    "X= [1,3,4,5,7,8]\n",
    "\n",
    "Sample mean (s) = (1+3+4+5+7+8)/6 = 28/6 = 4.667"
   ]
  },
  {
   "cell_type": "raw",
   "id": "5cb09d55-b504-492c-af7a-82901ee7e1e4",
   "metadata": {},
   "source": [
    "Q12. For a Normal distribution data what is the relationship between its measure of central tendency?\n",
    "In a Normal distribution, the mean, median and mode will be the same."
   ]
  },
  {
   "cell_type": "raw",
   "id": "f6842ea9-2d0f-468a-869d-85c412daf6cd",
   "metadata": {},
   "source": [
    "Q13. How covariance is different from correlation?\n",
    "Covariance doesnt have a specific limit value whereas coreleation has a limit value of -1 to +1"
   ]
  },
  {
   "cell_type": "raw",
   "id": "bcfdbbf6-8dba-4d37-8aa2-1e2dbaefcf7d",
   "metadata": {},
   "source": [
    "Q14. How do outliers affect measures of central tendency and dispersion? Provide an example.\n",
    "When there are outliers in the data set, Mean will drastically change, There will be slight change in the median and mode will have slight or no change\n",
    "Variance and standard deviation will also have a drastic change in their value\n",
    "e.g.\n",
    "X= [1,1,1,2,3,4,5]\n",
    "Here the mean = 2.429 , Median = 2 ,  mode = 1, Variance = 2.619 and Std. Deviation = 1.618\n",
    "\n",
    "If I add a outlier to the above dataset x= [1,1,1,2,3,4,5,100]\n",
    "THen the mean = 14.625 , Median = 2.5 and mode = 1, Variance = 1192.268 and Std. Deviation = 34.529\n",
    "\n"
   ]
  }
 ],
 "metadata": {
  "kernelspec": {
   "display_name": "Python 3 (ipykernel)",
   "language": "python",
   "name": "python3"
  },
  "language_info": {
   "codemirror_mode": {
    "name": "ipython",
    "version": 3
   },
   "file_extension": ".py",
   "mimetype": "text/x-python",
   "name": "python",
   "nbconvert_exporter": "python",
   "pygments_lexer": "ipython3",
   "version": "3.10.8"
  }
 },
 "nbformat": 4,
 "nbformat_minor": 5
}
