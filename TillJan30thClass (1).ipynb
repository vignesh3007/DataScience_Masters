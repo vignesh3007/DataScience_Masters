{
 "cells": [
  {
   "cell_type": "code",
   "execution_count": 4,
   "id": "3dab2890-34cd-4030-b23e-51b8ff54f1e2",
   "metadata": {},
   "outputs": [
    {
     "name": "stdout",
     "output_type": "stream",
     "text": [
      "ny name is vignesh\n"
     ]
    }
   ],
   "source": [
    "name='vignesh Ramkumar'\n",
    "age=40\n",
    "degree = 'BE\"\n",
    "print (\"ny name is\",name)"
   ]
  },
  {
   "cell_type": "code",
   "execution_count": 5,
   "id": "1c160157-ab4e-4ac4-8066-e755e4dcbaf1",
   "metadata": {},
   "outputs": [
    {
     "name": "stdout",
     "output_type": "stream",
     "text": [
      "My age is {age}\n"
     ]
    }
   ],
   "source": [
    "print (\"My age is {age}\")"
   ]
  },
  {
   "cell_type": "code",
   "execution_count": 10,
   "id": "97c0b1a2-93d2-4fe3-b031-e33f0273cb31",
   "metadata": {},
   "outputs": [
    {
     "name": "stdout",
     "output_type": "stream",
     "text": [
      "My age is 40\n"
     ]
    }
   ],
   "source": [
    "## F string which is used for formatting purposes\n",
    "print (f\"My age is {age}\")"
   ]
  },
  {
   "cell_type": "code",
   "execution_count": 13,
   "id": "45144709-ec56-48cb-86d0-beb87d41018d",
   "metadata": {},
   "outputs": [
    {
     "name": "stdout",
     "output_type": "stream",
     "text": [
      "my Name is vignesh and my age is 40\n"
     ]
    }
   ],
   "source": [
    "print (\"my Name is {} and my age is {}\".format(name,age)) # the datatype could be interchanged and it will give wrong answer"
   ]
  },
  {
   "cell_type": "code",
   "execution_count": 14,
   "id": "0e5c28d0-76c8-4584-83b1-ac145e77e83b",
   "metadata": {},
   "outputs": [
    {
     "name": "stdout",
     "output_type": "stream",
     "text": [
      "my Name is 40 and my age is vignesh\n"
     ]
    }
   ],
   "source": [
    "print (\"my Name is {} and my age is {}\".format(age,name))"
   ]
  },
  {
   "cell_type": "code",
   "execution_count": 17,
   "id": "8a9aeb34-13f7-4bd3-a128-650de1116beb",
   "metadata": {},
   "outputs": [
    {
     "name": "stdout",
     "output_type": "stream",
     "text": [
      "My Name is vignesh and my age is 40\n"
     ]
    }
   ],
   "source": [
    "print(\"My Name is {firstname} and my age is {firstage}\".format(firstname=name,firstage=age))"
   ]
  },
  {
   "cell_type": "code",
   "execution_count": 20,
   "id": "e8b1fdf5-f15a-4522-a85a-55b2698fea70",
   "metadata": {},
   "outputs": [
    {
     "name": "stdout",
     "output_type": "stream",
     "text": [
      "My age is 40 and I have completed my degree of BE with the name of vignesh Ramkumar\n"
     ]
    }
   ],
   "source": [
    "name='vignesh Ramkumar'\n",
    "age=40\n",
    "degree = 'BE'\n",
    "print(\"My age is {} and I have completed my degree of {} with the name of {}\".format(age,degree,name))"
   ]
  },
  {
   "cell_type": "code",
   "execution_count": 3,
   "id": "8b1d6f8a-2ed4-4a7d-9cec-3ca44d87db3c",
   "metadata": {},
   "outputs": [
    {
     "name": "stdin",
     "output_type": "stream",
     "text": [
      "Enter your age 12\n"
     ]
    },
    {
     "name": "stdout",
     "output_type": "stream",
     "text": [
      "12\n"
     ]
    }
   ],
   "source": [
    "age = int(input(\"Enter your age\"))\n",
    "print (age)"
   ]
  },
  {
   "cell_type": "code",
   "execution_count": 9,
   "id": "04ac5cc1-f9b8-49b9-af7e-77a701dd0dc0",
   "metadata": {},
   "outputs": [
    {
     "name": "stdin",
     "output_type": "stream",
     "text": [
      "Please enter the product price 1000\n"
     ]
    },
    {
     "name": "stdout",
     "output_type": "stream",
     "text": [
      "product price after discount is 700.0\n"
     ]
    }
   ],
   "source": [
    "# Assignment 1\n",
    "Pprice = int(input(\"Please enter the product price\"))\n",
    "if Pprice<=1000:\n",
    "    Disamt = Pprice - (Pprice *(30/100))\n",
    "else:\n",
    "    Disamt = Pprice - (Pprice*(20/100))\n",
    "print (\"product price after discount is {}\".format(Disamt))"
   ]
  },
  {
   "cell_type": "code",
   "execution_count": 6,
   "id": "4d5b6deb-0462-4b4e-bf5a-edddabfed525",
   "metadata": {},
   "outputs": [
    {
     "name": "stdin",
     "output_type": "stream",
     "text": [
      "Please enter the product price 2999\n"
     ]
    },
    {
     "name": "stdout",
     "output_type": "stream",
     "text": [
      "You have won a additional gift\n",
      "product price after discount is 2099.3\n"
     ]
    }
   ],
   "source": [
    "# Assignment 2\n",
    "## Product price greater than 3000 then 20% off\n",
    "## Product price greater than or equal to 2000  and less than or equal to 3000 then 30% off\n",
    "## Product price greater than or equal to 100  and less than to 2000 then 30% off\n",
    "## \n",
    "Pprice = int(input(\"Please enter the product price\"))\n",
    "if Pprice>3000:\n",
    "    if(Pprice == 4000):\n",
    "        print(\"you have won a trip to Goa\")\n",
    "    Disamt = Pprice - (Pprice *(20/100))\n",
    "elif Pprice >=2000 and Pprice<=3000:\n",
    "    if(Pprice == 2999):\n",
    "        print (\"You have won a additional gift\")\n",
    "    Disamt = Pprice - (Pprice *(30/100))\n",
    "else:\n",
    "    Disamt = Pprice - (Pprice*(40/100))\n",
    "print (\"product price after discount is {}\".format(Disamt))"
   ]
  },
  {
   "cell_type": "code",
   "execution_count": 7,
   "id": "8b0d854a-4019-4aae-bf34-4c57548ff268",
   "metadata": {},
   "outputs": [
    {
     "name": "stdin",
     "output_type": "stream",
     "text": [
      "Enter the value 12098\n"
     ]
    },
    {
     "name": "stdout",
     "output_type": "stream",
     "text": [
      "value is greater than 999\n"
     ]
    }
   ],
   "source": [
    "# Single Statement Suites\n",
    "val = int(input(\"Enter the value\"))\n",
    "if val<=999: print(\"value is less than or equal to 999\")\n",
    "else: print(\"value is greater than 999\")\n",
    "          "
   ]
  },
  {
   "cell_type": "markdown",
   "id": "06fac84d-1acd-46b3-b7d1-bacfb3381040",
   "metadata": {},
   "source": [
    "# Looping Statements \n",
    "1. While\n",
    "2. For\n",
    "3. Nested\n",
    "4. Loop Control (Break, Continue, Pass)"
   ]
  },
  {
   "cell_type": "code",
   "execution_count": 2,
   "id": "ba6529e9-7f30-45c3-87a2-5636c71b0661",
   "metadata": {},
   "outputs": [
    {
     "name": "stdout",
     "output_type": "stream",
     "text": [
      "25\n",
      "26\n",
      "27\n",
      "28\n",
      "29\n",
      "30\n",
      "31\n",
      "32\n",
      "33\n",
      "34\n",
      "35\n",
      "36\n",
      "37\n",
      "38\n",
      "39\n",
      "40\n",
      "41\n",
      "42\n",
      "43\n",
      "44\n",
      "45\n",
      "46\n",
      "47\n",
      "48\n",
      "49\n",
      "50\n",
      "51\n",
      "52\n",
      "53\n",
      "54\n",
      "55\n",
      "56\n",
      "57\n",
      "58\n",
      "59\n",
      "60\n",
      "You have reached the retirement age\n"
     ]
    }
   ],
   "source": [
    "# While Loop\n",
    "Age = 25\n",
    "while (Age <=60):\n",
    "    print (Age)\n",
    "    Age = Age+1\n",
    "else:\n",
    "    print (\"You have reached the retirement age\")"
   ]
  },
  {
   "cell_type": "code",
   "execution_count": 3,
   "id": "974865fa-43aa-4a22-9cd6-26476530802f",
   "metadata": {},
   "outputs": [
    {
     "name": "stdout",
     "output_type": "stream",
     "text": [
      "1000\n",
      "900\n",
      "800\n",
      "700\n",
      "600\n",
      "500\n",
      "400\n",
      "300\n",
      "200\n",
      "100\n",
      "ATM is empty\n"
     ]
    }
   ],
   "source": [
    "# Another While example\n",
    "\n",
    "cash=1000\n",
    "while (cash != 0):\n",
    "    print (cash)\n",
    "    cash = cash - 100\n",
    "print (\"ATM is empty\")"
   ]
  },
  {
   "cell_type": "code",
   "execution_count": 6,
   "id": "dc42680a-e178-4a1c-b2aa-ff18ac32e1c7",
   "metadata": {},
   "outputs": [
    {
     "data": {
      "text/plain": [
       "list"
      ]
     },
     "execution_count": 6,
     "metadata": {},
     "output_type": "execute_result"
    }
   ],
   "source": [
    "## List\n",
    "lst = [\"Vignesh\", 2,30,7,\"India\", \"Engineer\"]  \n",
    "type (lst)\n"
   ]
  },
  {
   "cell_type": "code",
   "execution_count": 8,
   "id": "cb562e4c-b681-445d-8902-b12183f0c56c",
   "metadata": {},
   "outputs": [
    {
     "name": "stdout",
     "output_type": "stream",
     "text": [
      "Vignesh\n",
      "2\n",
      "30\n",
      "7\n",
      "India\n",
      "Engineer\n"
     ]
    }
   ],
   "source": [
    "## For Loop\n",
    "for i in lst:\n",
    "    print (i)\n",
    "    "
   ]
  },
  {
   "cell_type": "code",
   "execution_count": 13,
   "id": "2a562703-01f2-4957-b087-68bd394c0dd7",
   "metadata": {},
   "outputs": [
    {
     "name": "stdout",
     "output_type": "stream",
     "text": [
      "Vignesh 2 30 7 India Engineer "
     ]
    }
   ],
   "source": [
    "# inorder to display all the list in a single line\n",
    "for i in lst:\n",
    "    print (i, end=' ')\n",
    "    "
   ]
  },
  {
   "cell_type": "code",
   "execution_count": 10,
   "id": "fe5672c2-fddc-4b63-ab5d-219e23f91f9f",
   "metadata": {},
   "outputs": [
    {
     "name": "stdout",
     "output_type": "stream",
     "text": [
      "m\n",
      "a\n",
      "n\n",
      "g\n",
      "o\n"
     ]
    }
   ],
   "source": [
    "# String is also a collection of elements and it would be treated as a list\n",
    "fruit = 'mango'\n",
    "for x in fruit:\n",
    "    print (x)"
   ]
  },
  {
   "cell_type": "code",
   "execution_count": 16,
   "id": "7ed218b2-5fee-4ae5-be31-2546ce0d89f3",
   "metadata": {},
   "outputs": [
    {
     "name": "stdout",
     "output_type": "stream",
     "text": [
      "1\n",
      "4\n",
      "7\n",
      "10\n"
     ]
    }
   ],
   "source": [
    "for i in range (1,11,3):\n",
    "    print (i)\n",
    "    "
   ]
  },
  {
   "cell_type": "code",
   "execution_count": 27,
   "id": "d5518782-ae33-439c-a027-cbde57983c3a",
   "metadata": {},
   "outputs": [
    {
     "name": "stdout",
     "output_type": "stream",
     "text": [
      "* \n",
      "* * \n",
      "* * * \n",
      "* * * * \n",
      "* * * * * \n",
      "* * * * * * \n",
      "* * * * * * * \n"
     ]
    }
   ],
   "source": [
    "n=7\n",
    "for i in range (0,n):\n",
    "    for j in range (0,i+1):\n",
    "        print(\"*\",end=' ')\n",
    "    print(\"\\r\")   # /r will move the cursor to the beginning of line and start printing the output \n",
    "        "
   ]
  },
  {
   "cell_type": "code",
   "execution_count": 28,
   "id": "08fe9644-116e-43af-9d21-fe49119dbf25",
   "metadata": {},
   "outputs": [
    {
     "name": "stdout",
     "output_type": "stream",
     "text": [
      "This is a first line \t Following line will be displayed post tab\n"
     ]
    }
   ],
   "source": [
    "# \\t example\n",
    "print (\"This is a first line \\t Following line will be displayed post tab\")"
   ]
  },
  {
   "cell_type": "code",
   "execution_count": 36,
   "id": "e8d8f5f2-da03-4ce4-819c-3dd85a8daefe",
   "metadata": {},
   "outputs": [
    {
     "name": "stdout",
     "output_type": "stream",
     "text": [
      "tabs is a first line Following line will be displayed  post \n"
     ]
    }
   ],
   "source": [
    "# \\r : In the below example Thi in the This word is replaced by tab in the output as we have mentioned \\r before tab\n",
    "print (\"This is a first line Following line will be displayed  post \\rtab\")"
   ]
  },
  {
   "cell_type": "code",
   "execution_count": null,
   "id": "4f34a314-373e-48b7-8f84-e221b00c8947",
   "metadata": {},
   "outputs": [],
   "source": [
    "  "
   ]
  },
  {
   "cell_type": "code",
   "execution_count": 42,
   "id": "a2bda5d6-7a78-4cb9-bb4a-68c13b1191a6",
   "metadata": {},
   "outputs": [
    {
     "name": "stdout",
     "output_type": "stream",
     "text": [
      "10\n",
      "9\n",
      "8\n",
      "7\n",
      "6\n",
      "5\n",
      "4\n",
      "3\n",
      "2\n"
     ]
    }
   ],
   "source": [
    "for i in range (10,1,-1):\n",
    "    print (i)"
   ]
  },
  {
   "cell_type": "code",
   "execution_count": 100,
   "id": "38e503c2-c1a2-495d-b9c7-402a46321fa8",
   "metadata": {},
   "outputs": [
    {
     "data": {
      "text/plain": [
       "list"
      ]
     },
     "execution_count": 100,
     "metadata": {},
     "output_type": "execute_result"
    }
   ],
   "source": [
    "fruit_list = [\"mango\", \"Apple\", \"Banana\", \"Berries\", \"Cherry\", \"Guava\",\"Watermelon\",\"Pomegrante\"]\n",
    "type(fruit_list)"
   ]
  },
  {
   "cell_type": "code",
   "execution_count": 101,
   "id": "5a8e17b7-07e8-4ef6-9d89-4113071c2d6d",
   "metadata": {},
   "outputs": [
    {
     "name": "stdout",
     "output_type": "stream",
     "text": [
      "mango\n",
      "Apple\n",
      "Banana\n",
      "Berries\n",
      "Cherry\n",
      "Guava\n",
      "Watermelon\n",
      "Pomegrante\n"
     ]
    }
   ],
   "source": [
    "for i in fruit_list:\n",
    "    print (i)\n",
    "    "
   ]
  },
  {
   "cell_type": "code",
   "execution_count": 103,
   "id": "57cc3b03-2dbc-448e-b549-03e6da29ea51",
   "metadata": {},
   "outputs": [
    {
     "name": "stdout",
     "output_type": "stream",
     "text": [
      "mango\n",
      "Apple\n",
      "Banana\n",
      "Berries\n",
      "Cherry\n",
      "Guava\n",
      "good to have Watermelon in Summer\n",
      "Watermelon\n",
      "Pomegrante\n"
     ]
    }
   ],
   "source": [
    "for i in fruit_list:\n",
    "    if (i == \"Watermelon\"):\n",
    "        print(\"good to have Watermelon in Summer\")\n",
    "    print (i)\n",
    "        "
   ]
  },
  {
   "cell_type": "code",
   "execution_count": 104,
   "id": "1ee77c05-f666-450c-adee-95bb58d5928a",
   "metadata": {},
   "outputs": [
    {
     "name": "stdout",
     "output_type": "stream",
     "text": [
      "mango\n",
      "Apple\n",
      "Banana\n",
      "Berries\n",
      "Cherry\n",
      "Guava\n",
      "good to have Watermelon in Summer\n"
     ]
    }
   ],
   "source": [
    "# Break Statement : Break will completely break the loop and come out once the condition is true\n",
    "for i in fruit_list:\n",
    "    if (i == \"Watermelon\"):\n",
    "        print(\"good to have Watermelon in Summer\")\n",
    "        break\n",
    "    print (i)"
   ]
  },
  {
   "cell_type": "code",
   "execution_count": 105,
   "id": "cc5985f4-32a9-4254-aac8-fcb29dda59ac",
   "metadata": {},
   "outputs": [
    {
     "name": "stdout",
     "output_type": "stream",
     "text": [
      "mango\n",
      "Apple\n",
      "Banana\n",
      "Berries\n",
      "Cherry\n",
      "Guava\n",
      "good to have Watermelon in Summer\n",
      "Watermelon\n",
      "Pomegrante\n"
     ]
    }
   ],
   "source": [
    "# Pass statement : Pass will continue to run the remaining loop and complete it \n",
    "for i in fruit_list:\n",
    "    if (i == \"Watermelon\"):\n",
    "        print(\"good to have Watermelon in Summer\")\n",
    "        pass\n",
    "    print (i)"
   ]
  },
  {
   "cell_type": "code",
   "execution_count": 106,
   "id": "28487287-85ee-439c-b2e6-177188071b21",
   "metadata": {},
   "outputs": [
    {
     "name": "stdout",
     "output_type": "stream",
     "text": [
      "mango\n",
      "Apple\n",
      "Banana\n",
      "Berries\n",
      "Cherry\n",
      "Guava\n",
      "good to have Watermelon in Summer\n",
      "Pomegrante\n"
     ]
    }
   ],
   "source": [
    "# Continue Statement: Continue will continue the loop but when the true condition comes, it will not display the Watermelon and instead displays the print statement inside the nested loop\n",
    "for i in fruit_list:\n",
    "    if (i == \"Watermelon\"):\n",
    "        print(\"good to have Watermelon in Summer\")\n",
    "        continue\n",
    "    print (i)"
   ]
  },
  {
   "cell_type": "code",
   "execution_count": null,
   "id": "c5153c8f-ce40-497a-bdf5-963cb43da683",
   "metadata": {},
   "outputs": [],
   "source": []
  }
 ],
 "metadata": {
  "kernelspec": {
   "display_name": "Python 3 (ipykernel)",
   "language": "python",
   "name": "python3"
  },
  "language_info": {
   "codemirror_mode": {
    "name": "ipython",
    "version": 3
   },
   "file_extension": ".py",
   "mimetype": "text/x-python",
   "name": "python",
   "nbconvert_exporter": "python",
   "pygments_lexer": "ipython3",
   "version": "3.10.8"
  }
 },
 "nbformat": 4,
 "nbformat_minor": 5
}
