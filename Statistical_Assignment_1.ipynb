{
 "cells": [
  {
   "cell_type": "markdown",
   "id": "519cc43d-c782-476b-b0ea-56bda8eac574",
   "metadata": {},
   "source": [
    "# Statistics Assignment 1"
   ]
  },
  {
   "cell_type": "raw",
   "id": "7b98b0d9-b754-43a0-9b7d-1bc1472c9ff8",
   "metadata": {},
   "source": [
    "Q1. What is Statistics?\n",
    "Statistics is the science of collecting,organizing and analysing the data"
   ]
  },
  {
   "cell_type": "raw",
   "id": "8eaf7156-c6e3-423e-8040-efee126952b9",
   "metadata": {},
   "source": [
    "Q2. Define the different types of statistics and give an example of when each type might be used.\n",
    "Descriptive and Inferential statistics\n",
    "Descriptive statistics: It is organizing and summarizing the data. e.g.  Average lifespan of people living in a city/country\n",
    "Inferential statistics: Using the data to to form a conclusions. e.g. Will the lifespan of the people living in the city is above 70"
   ]
  },
  {
   "cell_type": "raw",
   "id": "472d301a-1754-4a81-8431-d79f6a2357d5",
   "metadata": {},
   "source": [
    "Q3. What are the different types of data and how do they differ from each other? Provide an example of each type of data.\n",
    "Data is divided in Quantative ( It is a Numeric data) and Qualitative ( It is a categorical data) and Quantative is further divided into Discrete and continous, Qualitative is divided into Nominal and Ordinal\n",
    "Discrete: It has only whole number as values e.g. Age, Bank account number\n",
    "Continous: It accepts decimal values also e.g. weights, temperature, length of a roads\n",
    "Nominal: THere will be a definite/fixed  set of data and it cannot be ranked. e.g. Gender, Nationality\n",
    "Ordinal: It has fixed set of data which could be ranked. e.g. Army cadre positions"
   ]
  },
  {
   "cell_type": "raw",
   "id": "8b1c2925-b0db-4d92-b1bd-678dcc4f992d",
   "metadata": {},
   "source": [
    "Q4: Categorise the following datasets with respect to quantitative and qualitative data types:\n",
    "Grading in exam: A+, A, B+, B, C+, C, D, E : Ordinal\n",
    "Colour of mangoes: yellow, green, orange, red : Nominal\n",
    "Height data of a class: [178.9, 179, 179.5, 176, 177.2, 178.3, 175.8,...] : Continous\n",
    "Number of mangoes exported by a farm: [500, 600, 478, 672, ...] : Discrete"
   ]
  },
  {
   "cell_type": "raw",
   "id": "517a6c78-fefa-464e-bca8-5e671b7c9581",
   "metadata": {},
   "source": [
    "Q5. Explain the concept of levels of measurement and give an example of a variable for each level.\n",
    "Level of measurement is a classification that relates the values that are assigned to variables with each other\n",
    "Nominal scale data:\n",
    "It is qualitative / categorical variable. Ranking doesnt matter\n",
    "e.g. Gender, Maritial status\n",
    "Ordinal scale data:\n",
    "Ranking matters and difference cannot be measured\n",
    "e.g. Qualificaiton\n",
    "Interval scale data:\n",
    "Rank and order matters and difference can be measured excluding the ratio. It does not have zero starting value\n",
    "e.g. Temperature\n",
    "Ratio Scale data:\n",
    "Ratio is also measurable\n",
    "e.g. Grades\n"
   ]
  },
  {
   "cell_type": "raw",
   "id": "3ed2b3cb-e8ab-48cf-9480-60a36daeee38",
   "metadata": {},
   "source": [
    "Q6. Why is it important to understand the level of measurement when analyzing data? Provide an example to illustrate your answer.\n",
    "It helps to determine the statistical methods and tests that can be used to analyze the data.\n",
    "e.g. Marks of the students in a class. Let us say that we have collected data of 5 students and it is as follows\n",
    "Grades = {100,80,75,45,50}\n",
    "In the above data the student recieved 100 marks is 2 times more than the student received 50 marks and here the ratio of 2:1 can be applied . Hence it is a Ratio scale data. This would help us to further determine the methods required to analyse the data."
   ]
  },
  {
   "cell_type": "raw",
   "id": "d960c8fb-ef1d-4dbb-960d-08fef5ab6618",
   "metadata": {},
   "source": [
    "Q7. How nominal data type is different from ordinal data type.\n",
    "Nominal data has a fixed set of data but it cannot be ranked whereas in Ordinal data type, it can be ranked."
   ]
  },
  {
   "cell_type": "raw",
   "id": "5092227e-04df-45c8-b043-09532f84e276",
   "metadata": {},
   "source": [
    "Q8. Which type of plot can be used to display data in terms of range?\n",
    "Ratio scale data"
   ]
  },
  {
   "cell_type": "raw",
   "id": "550d7754-888a-44f2-bfec-93cb39d04bc0",
   "metadata": {},
   "source": [
    "Q9. Describe the difference between descriptive and inferential statistics. Give an example of each\n",
    "type of statistics and explain how they are used.\n",
    "Descriptive statistics is used to organise and summarize the data by applying different techniques.\n",
    "e.g. If we have collected the lifespan of 10 generations in a family as \n",
    "age = { 97,95,91,87,45,75,86,56,65,88}\n",
    "To find average lifespan of the family is a example for descriptive statistics\n",
    "Inferential statistics is to derive on a conclusions with the data that is collected and analysed.\n",
    "e.g. Is the lifespan of the family is similar to the other people lifespan in that place."
   ]
  },
  {
   "cell_type": "raw",
   "id": "a9a2d7d7-245e-4845-922e-b3f33efe606f",
   "metadata": {},
   "source": [
    "Q10. What are some common measures of central tendency and variability used in statistics? Explain\n",
    "how each measure can be used to describe a dataset.\n",
    "Mean , Median and Mode are the measures of central tendency. -  It is used when we carryout EDA and feature engineering in data analysis\n",
    "Population mean (u) = i= 1 to N (Xi/N)\n",
    "Where N is the total numbers of data and Xi is the datas in the dataset\n",
    "\n",
    "Sample Mean (s) - i= 1 to n (Xi/n)\n",
    "where Xi is the datas in the data set and n is the total number of data\n",
    "\n",
    "Median \n",
    "\n",
    "If the total number of data in data set is odd, then the middle value or N/2th position value is the median.\n",
    "x= {12,13,14,15,16} then 14 is the median\n",
    "If the total number of data in data set is even then (N/2th position + N/2+1th postion)/2 will be the median.\n",
    "x= {12,13,14,15,16,17} then (14+15)/2 = 14.5 is the median\n",
    "Variance and Standard deviations are the measures of dispersion.\n"
   ]
  }
 ],
 "metadata": {
  "kernelspec": {
   "display_name": "Python 3 (ipykernel)",
   "language": "python",
   "name": "python3"
  },
  "language_info": {
   "codemirror_mode": {
    "name": "ipython",
    "version": 3
   },
   "file_extension": ".py",
   "mimetype": "text/x-python",
   "name": "python",
   "nbconvert_exporter": "python",
   "pygments_lexer": "ipython3",
   "version": "3.10.8"
  }
 },
 "nbformat": 4,
 "nbformat_minor": 5
}
